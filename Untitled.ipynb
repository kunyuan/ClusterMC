{
 "cells": [
  {
   "cell_type": "code",
   "execution_count": 21,
   "metadata": {},
   "outputs": [
    {
     "name": "stdout",
     "output_type": "stream",
     "text": [
      "1   4\n",
      "2   16\n",
      "3   43\n",
      "4   91\n",
      "5   166\n",
      "6   274\n",
      "7   421\n",
      "8   613\n",
      "9   856\n"
     ]
    }
   ],
   "source": [
    "import parquetMC as MC\n",
    "\n",
    "chan = MC.channel\n",
    "diagnum=[]\n",
    "\n",
    "for o in range(1, 10):\n",
    "    ver4 = MC.vertex4()\n",
    "    ver4.Build(level=0, order=o, Kidx=0, Tidx=0, chan=[\n",
    "        chan.T, chan.U, chan.S, chan.TC, chan.UC], side=1)\n",
    "    diagnum.append(len(ver4.Tpair))\n",
    "    print(o, \" \", len(ver4.Tpair))"
   ]
  },
  {
   "cell_type": "code",
   "execution_count": 32,
   "metadata": {},
   "outputs": [
    {
     "data": {
      "image/png": "[encoded data removed]",
      "text/plain": [
       "<Figure size 432x288 with 1 Axes>"
      ]
     },
     "metadata": {
      "needs_background": "light"
     },
     "output_type": "display_data"
    }
   ],
   "source": [
    "import numpy as np\n",
    "import matplotlib.pyplot as plt\n",
    "order=np.array(range(1, 10))\n",
    "diag=np.array(diagnum)\n",
    "#plt.plot(order, np.log(diag)/np.log(order), 'ko')\n",
    "plt.plot(order, diag, 'ko')\n",
    "plt.plot(order, 1.17*order**3)\n",
    "#plt.ylim([3.0, 4.0])\n",
    "plt.show()"
   ]
  },
  {
   "cell_type": "code",
   "execution_count": null,
   "metadata": {},
   "outputs": [],
   "source": []
  }
 ],
 "metadata": {
  "kernelspec": {
   "display_name": "Python 3.6.9 64-bit",
   "language": "python",
   "name": "python36964bit795db20f401c46e7b1223182d297261e"
  },
  "language_info": {
   "codemirror_mode": {
    "name": "ipython",
    "version": 3
   },
   "file_extension": ".py",
   "mimetype": "text/x-python",
   "name": "python",
   "nbconvert_exporter": "python",
   "pygments_lexer": "ipython3",
   "version": "3.6.9"
  }
 },
 "nbformat": 4,
 "nbformat_minor": 2
}
